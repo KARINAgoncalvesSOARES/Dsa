{
  "nbformat": 4,
  "nbformat_minor": 0,
  "metadata": {
    "colab": {
      "provenance": [],
      "mount_file_id": "1jBZ39iin9Y_CPAKPPZs4sTcIWMc-Jt2J",
      "authorship_tag": "ABX9TyMLoURvlqv99uHXU1LD68pj",
      "include_colab_link": true
    },
    "kernelspec": {
      "name": "python3",
      "display_name": "Python 3"
    },
    "language_info": {
      "name": "python"
    }
  },
  "cells": [
    {
      "cell_type": "markdown",
      "metadata": {
        "id": "view-in-github",
        "colab_type": "text"
      },
      "source": [
        "<a href=\"https://colab.research.google.com/github/KARINAgoncalvesSOARES/Dsa/blob/main/analise_exploratoria_de_dados.ipynb\" target=\"_parent\"><img src=\"https://colab.research.google.com/assets/colab-badge.svg\" alt=\"Open In Colab\"/></a>"
      ]
    },
    {
      "cell_type": "markdown",
      "source": [
        "## <h2 align=\"center\">Análise Exploratória de Dados </h2>\n",
        "\n",
        "Data Scientist Jr.: Karina Gonçalves Soares\n",
        "\n",
        "Link de estudo:\n",
        "* [Data Science academy](https://www.datascienceacademy.com.br/path-player?courseid=python-fundamentos&unit=5796bc7b47d7ddce998b45a6Unit)"
      ],
      "metadata": {
        "id": "ycLmVZy1uWi4"
      }
    },
    {
      "cell_type": "markdown",
      "source": [
        "Neste notebook usaremos uma pesquisa recente nos EUA sobre o mercado de trabalho para programadores de software. Nosso objetivo é fazer uma investigação inicial dos dados a fim de detectar problemas com os dados, necessidade de mais variáveis, falhas na organização e necessidades de transformação."
      ],
      "metadata": {
        "id": "ZgP8Xlu2vQcQ"
      }
    },
    {
      "cell_type": "markdown",
      "source": [
        "Pesquisa Salarial realizada pelo site https://www.freecodecamp.com/ com programadores de software nos EUA que frequentaram treinamentos Bootcamp.¶"
      ],
      "metadata": {
        "id": "wMByNGq4vQSM"
      }
    },
    {
      "cell_type": "code",
      "execution_count": 24,
      "metadata": {
        "id": "QTUyt2oT2KHq"
      },
      "outputs": [],
      "source": [
        "# Importando os pacotes\n",
        "\n",
        "import numpy as np\n",
        "import pandas as pd\n",
        "import matplotlib as mat\n",
        "import matplotlib.pyplot as plt\n",
        "import colorsys\n",
        "plt.style.use('seaborn-talk') # Escolhendo o estilo do gráfico que será utilizado\n",
        "import warnings\n",
        "warnings.filterwarnings('ignore') # Ignorar avisos de atualizações\n",
        "%matplotlib inline \n"
      ]
    },
    {
      "cell_type": "code",
      "source": [
        "# Carregando o dataset\n",
        "\n",
        "df = pd.read_csv('/content/drive/MyDrive/github/dsa/Dados-Pesquisa.csv', sep = ',', low_memory= False)"
      ],
      "metadata": {
        "id": "4eMUQmtIv7_e"
      },
      "execution_count": 25,
      "outputs": []
    },
    {
      "cell_type": "code",
      "source": [
        "print(df.head())"
      ],
      "metadata": {
        "id": "2iMjqRcuy3a_",
        "colab": {
          "base_uri": "https://localhost:8080/"
        },
        "outputId": "a058689c-b1ce-4309-be04-4076870b1b6e"
      },
      "execution_count": 26,
      "outputs": [
        {
          "output_type": "stream",
          "name": "stdout",
          "text": [
            "    Age  AttendedBootcamp  BootcampFinish  BootcampFullJobAfter  \\\n",
            "0  28.0               0.0             NaN                   NaN   \n",
            "1  22.0               0.0             NaN                   NaN   \n",
            "2  19.0               0.0             NaN                   NaN   \n",
            "3  26.0               0.0             NaN                   NaN   \n",
            "4  20.0               0.0             NaN                   NaN   \n",
            "\n",
            "   BootcampLoanYesNo  BootcampMonthsAgo BootcampName  BootcampPostSalary  \\\n",
            "0                NaN                NaN          NaN                 NaN   \n",
            "1                NaN                NaN          NaN                 NaN   \n",
            "2                NaN                NaN          NaN                 NaN   \n",
            "3                NaN                NaN          NaN                 NaN   \n",
            "4                NaN                NaN          NaN                 NaN   \n",
            "\n",
            "   BootcampRecommend  ChildrenNumber  ... ResourceSoloLearn  \\\n",
            "0                NaN             NaN  ...               NaN   \n",
            "1                NaN             NaN  ...               NaN   \n",
            "2                NaN             NaN  ...               NaN   \n",
            "3                NaN             NaN  ...               NaN   \n",
            "4                NaN             NaN  ...               NaN   \n",
            "\n",
            "   ResourceStackOverflow  ResourceTreehouse  ResourceUdacity  ResourceUdemy  \\\n",
            "0                    NaN                NaN              NaN            NaN   \n",
            "1                    NaN                NaN              NaN            1.0   \n",
            "2                    NaN                NaN              NaN            NaN   \n",
            "3                    NaN                NaN              NaN            NaN   \n",
            "4                    NaN                NaN              NaN            NaN   \n",
            "\n",
            "   ResourceW3Schools  ResourceYouTube  \\\n",
            "0                NaN              NaN   \n",
            "1                NaN              NaN   \n",
            "2                NaN              NaN   \n",
            "3                NaN              NaN   \n",
            "4                NaN              NaN   \n",
            "\n",
            "                              SchoolDegree              SchoolMajor  \\\n",
            "0           some college credit, no degree                      NaN   \n",
            "1           some college credit, no degree                      NaN   \n",
            "2  high school diploma or equivalent (GED)                      NaN   \n",
            "3                        bachelor's degree  Cinematography And Film   \n",
            "4           some college credit, no degree                      NaN   \n",
            "\n",
            "   StudentDebtOwe  \n",
            "0         20000.0  \n",
            "1             NaN  \n",
            "2             NaN  \n",
            "3          7000.0  \n",
            "4             NaN  \n",
            "\n",
            "[5 rows x 113 columns]\n"
          ]
        }
      ]
    },
    {
      "cell_type": "code",
      "source": [
        "df"
      ],
      "metadata": {
        "colab": {
          "base_uri": "https://localhost:8080/",
          "height": 765
        },
        "id": "MZC9QGZt2JHu",
        "outputId": "46292d5d-793e-4bd1-cd78-fd90503d3b68"
      },
      "execution_count": 27,
      "outputs": [
        {
          "output_type": "execute_result",
          "data": {
            "text/plain": [
              "        Age  AttendedBootcamp  BootcampFinish  BootcampFullJobAfter  \\\n",
              "0      28.0               0.0             NaN                   NaN   \n",
              "1      22.0               0.0             NaN                   NaN   \n",
              "2      19.0               0.0             NaN                   NaN   \n",
              "3      26.0               0.0             NaN                   NaN   \n",
              "4      20.0               0.0             NaN                   NaN   \n",
              "...     ...               ...             ...                   ...   \n",
              "15615  39.0               0.0             NaN                   NaN   \n",
              "15616  27.0               0.0             NaN                   NaN   \n",
              "15617  37.0               0.0             NaN                   NaN   \n",
              "15618  26.0               0.0             NaN                   NaN   \n",
              "15619  22.0               0.0             NaN                   NaN   \n",
              "\n",
              "       BootcampLoanYesNo  BootcampMonthsAgo BootcampName  BootcampPostSalary  \\\n",
              "0                    NaN                NaN          NaN                 NaN   \n",
              "1                    NaN                NaN          NaN                 NaN   \n",
              "2                    NaN                NaN          NaN                 NaN   \n",
              "3                    NaN                NaN          NaN                 NaN   \n",
              "4                    NaN                NaN          NaN                 NaN   \n",
              "...                  ...                ...          ...                 ...   \n",
              "15615                NaN                NaN          NaN                 NaN   \n",
              "15616                NaN                NaN          NaN                 NaN   \n",
              "15617                NaN                NaN          NaN                 NaN   \n",
              "15618                NaN                NaN          NaN                 NaN   \n",
              "15619                NaN                NaN          NaN                 NaN   \n",
              "\n",
              "       BootcampRecommend  ChildrenNumber  ... ResourceSoloLearn  \\\n",
              "0                    NaN             NaN  ...               NaN   \n",
              "1                    NaN             NaN  ...               NaN   \n",
              "2                    NaN             NaN  ...               NaN   \n",
              "3                    NaN             NaN  ...               NaN   \n",
              "4                    NaN             NaN  ...               NaN   \n",
              "...                  ...             ...  ...               ...   \n",
              "15615                NaN             NaN  ...               NaN   \n",
              "15616                NaN             NaN  ...               NaN   \n",
              "15617                NaN             NaN  ...               NaN   \n",
              "15618                NaN             NaN  ...               NaN   \n",
              "15619                NaN             NaN  ...               NaN   \n",
              "\n",
              "       ResourceStackOverflow  ResourceTreehouse  ResourceUdacity  \\\n",
              "0                        NaN                NaN              NaN   \n",
              "1                        NaN                NaN              NaN   \n",
              "2                        NaN                NaN              NaN   \n",
              "3                        NaN                NaN              NaN   \n",
              "4                        NaN                NaN              NaN   \n",
              "...                      ...                ...              ...   \n",
              "15615                    NaN                NaN              NaN   \n",
              "15616                    NaN                1.0              NaN   \n",
              "15617                    NaN                NaN              NaN   \n",
              "15618                    NaN                NaN              NaN   \n",
              "15619                    NaN                NaN              NaN   \n",
              "\n",
              "       ResourceUdemy  ResourceW3Schools  ResourceYouTube  \\\n",
              "0                NaN                NaN              NaN   \n",
              "1                1.0                NaN              NaN   \n",
              "2                NaN                NaN              NaN   \n",
              "3                NaN                NaN              NaN   \n",
              "4                NaN                NaN              NaN   \n",
              "...              ...                ...              ...   \n",
              "15615            1.0                NaN              NaN   \n",
              "15616            NaN                NaN              NaN   \n",
              "15617            NaN                NaN              NaN   \n",
              "15618            1.0                NaN              NaN   \n",
              "15619            NaN                NaN              NaN   \n",
              "\n",
              "                                  SchoolDegree              SchoolMajor  \\\n",
              "0               some college credit, no degree                      NaN   \n",
              "1               some college credit, no degree                      NaN   \n",
              "2      high school diploma or equivalent (GED)                      NaN   \n",
              "3                            bachelor's degree  Cinematography And Film   \n",
              "4               some college credit, no degree                      NaN   \n",
              "...                                        ...                      ...   \n",
              "15615                        bachelor's degree                Chemistry   \n",
              "15616                        bachelor's degree   Electrical Engineering   \n",
              "15617                        bachelor's degree                Chemistry   \n",
              "15618       master's degree (non-professional)                     Math   \n",
              "15619                        bachelor's degree           Graphic Design   \n",
              "\n",
              "       StudentDebtOwe  \n",
              "0             20000.0  \n",
              "1                 NaN  \n",
              "2                 NaN  \n",
              "3              7000.0  \n",
              "4                 NaN  \n",
              "...               ...  \n",
              "15615             NaN  \n",
              "15616             NaN  \n",
              "15617             NaN  \n",
              "15618             NaN  \n",
              "15619         40000.0  \n",
              "\n",
              "[15620 rows x 113 columns]"
            ],
            "text/html": [
              "\n",
              "  <div id=\"df-45de42f2-4b59-4428-87a4-009ab58de909\">\n",
              "    <div class=\"colab-df-container\">\n",
              "      <div>\n",
              "<style scoped>\n",
              "    .dataframe tbody tr th:only-of-type {\n",
              "        vertical-align: middle;\n",
              "    }\n",
              "\n",
              "    .dataframe tbody tr th {\n",
              "        vertical-align: top;\n",
              "    }\n",
              "\n",
              "    .dataframe thead th {\n",
              "        text-align: right;\n",
              "    }\n",
              "</style>\n",
              "<table border=\"1\" class=\"dataframe\">\n",
              "  <thead>\n",
              "    <tr style=\"text-align: right;\">\n",
              "      <th></th>\n",
              "      <th>Age</th>\n",
              "      <th>AttendedBootcamp</th>\n",
              "      <th>BootcampFinish</th>\n",
              "      <th>BootcampFullJobAfter</th>\n",
              "      <th>BootcampLoanYesNo</th>\n",
              "      <th>BootcampMonthsAgo</th>\n",
              "      <th>BootcampName</th>\n",
              "      <th>BootcampPostSalary</th>\n",
              "      <th>BootcampRecommend</th>\n",
              "      <th>ChildrenNumber</th>\n",
              "      <th>...</th>\n",
              "      <th>ResourceSoloLearn</th>\n",
              "      <th>ResourceStackOverflow</th>\n",
              "      <th>ResourceTreehouse</th>\n",
              "      <th>ResourceUdacity</th>\n",
              "      <th>ResourceUdemy</th>\n",
              "      <th>ResourceW3Schools</th>\n",
              "      <th>ResourceYouTube</th>\n",
              "      <th>SchoolDegree</th>\n",
              "      <th>SchoolMajor</th>\n",
              "      <th>StudentDebtOwe</th>\n",
              "    </tr>\n",
              "  </thead>\n",
              "  <tbody>\n",
              "    <tr>\n",
              "      <th>0</th>\n",
              "      <td>28.0</td>\n",
              "      <td>0.0</td>\n",
              "      <td>NaN</td>\n",
              "      <td>NaN</td>\n",
              "      <td>NaN</td>\n",
              "      <td>NaN</td>\n",
              "      <td>NaN</td>\n",
              "      <td>NaN</td>\n",
              "      <td>NaN</td>\n",
              "      <td>NaN</td>\n",
              "      <td>...</td>\n",
              "      <td>NaN</td>\n",
              "      <td>NaN</td>\n",
              "      <td>NaN</td>\n",
              "      <td>NaN</td>\n",
              "      <td>NaN</td>\n",
              "      <td>NaN</td>\n",
              "      <td>NaN</td>\n",
              "      <td>some college credit, no degree</td>\n",
              "      <td>NaN</td>\n",
              "      <td>20000.0</td>\n",
              "    </tr>\n",
              "    <tr>\n",
              "      <th>1</th>\n",
              "      <td>22.0</td>\n",
              "      <td>0.0</td>\n",
              "      <td>NaN</td>\n",
              "      <td>NaN</td>\n",
              "      <td>NaN</td>\n",
              "      <td>NaN</td>\n",
              "      <td>NaN</td>\n",
              "      <td>NaN</td>\n",
              "      <td>NaN</td>\n",
              "      <td>NaN</td>\n",
              "      <td>...</td>\n",
              "      <td>NaN</td>\n",
              "      <td>NaN</td>\n",
              "      <td>NaN</td>\n",
              "      <td>NaN</td>\n",
              "      <td>1.0</td>\n",
              "      <td>NaN</td>\n",
              "      <td>NaN</td>\n",
              "      <td>some college credit, no degree</td>\n",
              "      <td>NaN</td>\n",
              "      <td>NaN</td>\n",
              "    </tr>\n",
              "    <tr>\n",
              "      <th>2</th>\n",
              "      <td>19.0</td>\n",
              "      <td>0.0</td>\n",
              "      <td>NaN</td>\n",
              "      <td>NaN</td>\n",
              "      <td>NaN</td>\n",
              "      <td>NaN</td>\n",
              "      <td>NaN</td>\n",
              "      <td>NaN</td>\n",
              "      <td>NaN</td>\n",
              "      <td>NaN</td>\n",
              "      <td>...</td>\n",
              "      <td>NaN</td>\n",
              "      <td>NaN</td>\n",
              "      <td>NaN</td>\n",
              "      <td>NaN</td>\n",
              "      <td>NaN</td>\n",
              "      <td>NaN</td>\n",
              "      <td>NaN</td>\n",
              "      <td>high school diploma or equivalent (GED)</td>\n",
              "      <td>NaN</td>\n",
              "      <td>NaN</td>\n",
              "    </tr>\n",
              "    <tr>\n",
              "      <th>3</th>\n",
              "      <td>26.0</td>\n",
              "      <td>0.0</td>\n",
              "      <td>NaN</td>\n",
              "      <td>NaN</td>\n",
              "      <td>NaN</td>\n",
              "      <td>NaN</td>\n",
              "      <td>NaN</td>\n",
              "      <td>NaN</td>\n",
              "      <td>NaN</td>\n",
              "      <td>NaN</td>\n",
              "      <td>...</td>\n",
              "      <td>NaN</td>\n",
              "      <td>NaN</td>\n",
              "      <td>NaN</td>\n",
              "      <td>NaN</td>\n",
              "      <td>NaN</td>\n",
              "      <td>NaN</td>\n",
              "      <td>NaN</td>\n",
              "      <td>bachelor's degree</td>\n",
              "      <td>Cinematography And Film</td>\n",
              "      <td>7000.0</td>\n",
              "    </tr>\n",
              "    <tr>\n",
              "      <th>4</th>\n",
              "      <td>20.0</td>\n",
              "      <td>0.0</td>\n",
              "      <td>NaN</td>\n",
              "      <td>NaN</td>\n",
              "      <td>NaN</td>\n",
              "      <td>NaN</td>\n",
              "      <td>NaN</td>\n",
              "      <td>NaN</td>\n",
              "      <td>NaN</td>\n",
              "      <td>NaN</td>\n",
              "      <td>...</td>\n",
              "      <td>NaN</td>\n",
              "      <td>NaN</td>\n",
              "      <td>NaN</td>\n",
              "      <td>NaN</td>\n",
              "      <td>NaN</td>\n",
              "      <td>NaN</td>\n",
              "      <td>NaN</td>\n",
              "      <td>some college credit, no degree</td>\n",
              "      <td>NaN</td>\n",
              "      <td>NaN</td>\n",
              "    </tr>\n",
              "    <tr>\n",
              "      <th>...</th>\n",
              "      <td>...</td>\n",
              "      <td>...</td>\n",
              "      <td>...</td>\n",
              "      <td>...</td>\n",
              "      <td>...</td>\n",
              "      <td>...</td>\n",
              "      <td>...</td>\n",
              "      <td>...</td>\n",
              "      <td>...</td>\n",
              "      <td>...</td>\n",
              "      <td>...</td>\n",
              "      <td>...</td>\n",
              "      <td>...</td>\n",
              "      <td>...</td>\n",
              "      <td>...</td>\n",
              "      <td>...</td>\n",
              "      <td>...</td>\n",
              "      <td>...</td>\n",
              "      <td>...</td>\n",
              "      <td>...</td>\n",
              "      <td>...</td>\n",
              "    </tr>\n",
              "    <tr>\n",
              "      <th>15615</th>\n",
              "      <td>39.0</td>\n",
              "      <td>0.0</td>\n",
              "      <td>NaN</td>\n",
              "      <td>NaN</td>\n",
              "      <td>NaN</td>\n",
              "      <td>NaN</td>\n",
              "      <td>NaN</td>\n",
              "      <td>NaN</td>\n",
              "      <td>NaN</td>\n",
              "      <td>NaN</td>\n",
              "      <td>...</td>\n",
              "      <td>NaN</td>\n",
              "      <td>NaN</td>\n",
              "      <td>NaN</td>\n",
              "      <td>NaN</td>\n",
              "      <td>1.0</td>\n",
              "      <td>NaN</td>\n",
              "      <td>NaN</td>\n",
              "      <td>bachelor's degree</td>\n",
              "      <td>Chemistry</td>\n",
              "      <td>NaN</td>\n",
              "    </tr>\n",
              "    <tr>\n",
              "      <th>15616</th>\n",
              "      <td>27.0</td>\n",
              "      <td>0.0</td>\n",
              "      <td>NaN</td>\n",
              "      <td>NaN</td>\n",
              "      <td>NaN</td>\n",
              "      <td>NaN</td>\n",
              "      <td>NaN</td>\n",
              "      <td>NaN</td>\n",
              "      <td>NaN</td>\n",
              "      <td>NaN</td>\n",
              "      <td>...</td>\n",
              "      <td>NaN</td>\n",
              "      <td>NaN</td>\n",
              "      <td>1.0</td>\n",
              "      <td>NaN</td>\n",
              "      <td>NaN</td>\n",
              "      <td>NaN</td>\n",
              "      <td>NaN</td>\n",
              "      <td>bachelor's degree</td>\n",
              "      <td>Electrical Engineering</td>\n",
              "      <td>NaN</td>\n",
              "    </tr>\n",
              "    <tr>\n",
              "      <th>15617</th>\n",
              "      <td>37.0</td>\n",
              "      <td>0.0</td>\n",
              "      <td>NaN</td>\n",
              "      <td>NaN</td>\n",
              "      <td>NaN</td>\n",
              "      <td>NaN</td>\n",
              "      <td>NaN</td>\n",
              "      <td>NaN</td>\n",
              "      <td>NaN</td>\n",
              "      <td>NaN</td>\n",
              "      <td>...</td>\n",
              "      <td>NaN</td>\n",
              "      <td>NaN</td>\n",
              "      <td>NaN</td>\n",
              "      <td>NaN</td>\n",
              "      <td>NaN</td>\n",
              "      <td>NaN</td>\n",
              "      <td>NaN</td>\n",
              "      <td>bachelor's degree</td>\n",
              "      <td>Chemistry</td>\n",
              "      <td>NaN</td>\n",
              "    </tr>\n",
              "    <tr>\n",
              "      <th>15618</th>\n",
              "      <td>26.0</td>\n",
              "      <td>0.0</td>\n",
              "      <td>NaN</td>\n",
              "      <td>NaN</td>\n",
              "      <td>NaN</td>\n",
              "      <td>NaN</td>\n",
              "      <td>NaN</td>\n",
              "      <td>NaN</td>\n",
              "      <td>NaN</td>\n",
              "      <td>NaN</td>\n",
              "      <td>...</td>\n",
              "      <td>NaN</td>\n",
              "      <td>NaN</td>\n",
              "      <td>NaN</td>\n",
              "      <td>NaN</td>\n",
              "      <td>1.0</td>\n",
              "      <td>NaN</td>\n",
              "      <td>NaN</td>\n",
              "      <td>master's degree (non-professional)</td>\n",
              "      <td>Math</td>\n",
              "      <td>NaN</td>\n",
              "    </tr>\n",
              "    <tr>\n",
              "      <th>15619</th>\n",
              "      <td>22.0</td>\n",
              "      <td>0.0</td>\n",
              "      <td>NaN</td>\n",
              "      <td>NaN</td>\n",
              "      <td>NaN</td>\n",
              "      <td>NaN</td>\n",
              "      <td>NaN</td>\n",
              "      <td>NaN</td>\n",
              "      <td>NaN</td>\n",
              "      <td>NaN</td>\n",
              "      <td>...</td>\n",
              "      <td>NaN</td>\n",
              "      <td>NaN</td>\n",
              "      <td>NaN</td>\n",
              "      <td>NaN</td>\n",
              "      <td>NaN</td>\n",
              "      <td>NaN</td>\n",
              "      <td>NaN</td>\n",
              "      <td>bachelor's degree</td>\n",
              "      <td>Graphic Design</td>\n",
              "      <td>40000.0</td>\n",
              "    </tr>\n",
              "  </tbody>\n",
              "</table>\n",
              "<p>15620 rows × 113 columns</p>\n",
              "</div>\n",
              "      <button class=\"colab-df-convert\" onclick=\"convertToInteractive('df-45de42f2-4b59-4428-87a4-009ab58de909')\"\n",
              "              title=\"Convert this dataframe to an interactive table.\"\n",
              "              style=\"display:none;\">\n",
              "        \n",
              "  <svg xmlns=\"http://www.w3.org/2000/svg\" height=\"24px\"viewBox=\"0 0 24 24\"\n",
              "       width=\"24px\">\n",
              "    <path d=\"M0 0h24v24H0V0z\" fill=\"none\"/>\n",
              "    <path d=\"M18.56 5.44l.94 2.06.94-2.06 2.06-.94-2.06-.94-.94-2.06-.94 2.06-2.06.94zm-11 1L8.5 8.5l.94-2.06 2.06-.94-2.06-.94L8.5 2.5l-.94 2.06-2.06.94zm10 10l.94 2.06.94-2.06 2.06-.94-2.06-.94-.94-2.06-.94 2.06-2.06.94z\"/><path d=\"M17.41 7.96l-1.37-1.37c-.4-.4-.92-.59-1.43-.59-.52 0-1.04.2-1.43.59L10.3 9.45l-7.72 7.72c-.78.78-.78 2.05 0 2.83L4 21.41c.39.39.9.59 1.41.59.51 0 1.02-.2 1.41-.59l7.78-7.78 2.81-2.81c.8-.78.8-2.07 0-2.86zM5.41 20L4 18.59l7.72-7.72 1.47 1.35L5.41 20z\"/>\n",
              "  </svg>\n",
              "      </button>\n",
              "      \n",
              "  <style>\n",
              "    .colab-df-container {\n",
              "      display:flex;\n",
              "      flex-wrap:wrap;\n",
              "      gap: 12px;\n",
              "    }\n",
              "\n",
              "    .colab-df-convert {\n",
              "      background-color: #E8F0FE;\n",
              "      border: none;\n",
              "      border-radius: 50%;\n",
              "      cursor: pointer;\n",
              "      display: none;\n",
              "      fill: #1967D2;\n",
              "      height: 32px;\n",
              "      padding: 0 0 0 0;\n",
              "      width: 32px;\n",
              "    }\n",
              "\n",
              "    .colab-df-convert:hover {\n",
              "      background-color: #E2EBFA;\n",
              "      box-shadow: 0px 1px 2px rgba(60, 64, 67, 0.3), 0px 1px 3px 1px rgba(60, 64, 67, 0.15);\n",
              "      fill: #174EA6;\n",
              "    }\n",
              "\n",
              "    [theme=dark] .colab-df-convert {\n",
              "      background-color: #3B4455;\n",
              "      fill: #D2E3FC;\n",
              "    }\n",
              "\n",
              "    [theme=dark] .colab-df-convert:hover {\n",
              "      background-color: #434B5C;\n",
              "      box-shadow: 0px 1px 3px 1px rgba(0, 0, 0, 0.15);\n",
              "      filter: drop-shadow(0px 1px 2px rgba(0, 0, 0, 0.3));\n",
              "      fill: #FFFFFF;\n",
              "    }\n",
              "  </style>\n",
              "\n",
              "      <script>\n",
              "        const buttonEl =\n",
              "          document.querySelector('#df-45de42f2-4b59-4428-87a4-009ab58de909 button.colab-df-convert');\n",
              "        buttonEl.style.display =\n",
              "          google.colab.kernel.accessAllowed ? 'block' : 'none';\n",
              "\n",
              "        async function convertToInteractive(key) {\n",
              "          const element = document.querySelector('#df-45de42f2-4b59-4428-87a4-009ab58de909');\n",
              "          const dataTable =\n",
              "            await google.colab.kernel.invokeFunction('convertToInteractive',\n",
              "                                                     [key], {});\n",
              "          if (!dataTable) return;\n",
              "\n",
              "          const docLinkHtml = 'Like what you see? Visit the ' +\n",
              "            '<a target=\"_blank\" href=https://colab.research.google.com/notebooks/data_table.ipynb>data table notebook</a>'\n",
              "            + ' to learn more about interactive tables.';\n",
              "          element.innerHTML = '';\n",
              "          dataTable['output_type'] = 'display_data';\n",
              "          await google.colab.output.renderOutput(dataTable, element);\n",
              "          const docLink = document.createElement('div');\n",
              "          docLink.innerHTML = docLinkHtml;\n",
              "          element.appendChild(docLink);\n",
              "        }\n",
              "      </script>\n",
              "    </div>\n",
              "  </div>\n",
              "  "
            ]
          },
          "metadata": {},
          "execution_count": 27
        }
      ]
    },
    {
      "cell_type": "code",
      "source": [
        "# Resumo estatístico\n",
        "print(df.describe())"
      ],
      "metadata": {
        "colab": {
          "base_uri": "https://localhost:8080/"
        },
        "id": "M53eW0cD2JFH",
        "outputId": "84263f91-191c-415a-8ca7-c06256632f38"
      },
      "execution_count": 28,
      "outputs": [
        {
          "output_type": "stream",
          "name": "stdout",
          "text": [
            "                Age  AttendedBootcamp  BootcampFinish  BootcampFullJobAfter  \\\n",
            "count  13613.000000      15380.000000      933.000000            635.000000   \n",
            "mean      29.175714          0.061964        0.689175              0.584252   \n",
            "std        9.017580          0.241097        0.463080              0.493239   \n",
            "min       10.000000          0.000000        0.000000              0.000000   \n",
            "25%       23.000000          0.000000        0.000000              0.000000   \n",
            "50%       27.000000          0.000000        1.000000              1.000000   \n",
            "75%       33.000000          0.000000        1.000000              1.000000   \n",
            "max       86.000000          1.000000        1.000000              1.000000   \n",
            "\n",
            "       BootcampLoanYesNo  BootcampMonthsAgo  BootcampPostSalary  \\\n",
            "count         934.000000         631.000000          330.000000   \n",
            "mean            0.332976           9.055468        63740.506061   \n",
            "std             0.471531          12.968035        26347.200265   \n",
            "min             0.000000           0.000000         6000.000000   \n",
            "25%             0.000000           3.000000        50000.000000   \n",
            "50%             0.000000           6.000000        60000.000000   \n",
            "75%             1.000000          12.000000        77000.000000   \n",
            "max             1.000000         220.000000       200000.000000   \n",
            "\n",
            "       BootcampRecommend  ChildrenNumber  CodeEventBootcamp  ...  \\\n",
            "count         937.000000     2554.000000               42.0  ...   \n",
            "mean            0.785486        1.896241                1.0  ...   \n",
            "std             0.410704        1.115975                0.0  ...   \n",
            "min             0.000000        0.000000                1.0  ...   \n",
            "25%             1.000000        1.000000                1.0  ...   \n",
            "50%             1.000000        2.000000                1.0  ...   \n",
            "75%             1.000000        2.000000                1.0  ...   \n",
            "max             1.000000       18.000000                1.0  ...   \n",
            "\n",
            "       ResourceReddit  ResourceSkillCrush  ResourceSoloLearn  \\\n",
            "count            29.0                36.0               30.0   \n",
            "mean              1.0                 1.0                1.0   \n",
            "std               0.0                 0.0                0.0   \n",
            "min               1.0                 1.0                1.0   \n",
            "25%               1.0                 1.0                1.0   \n",
            "50%               1.0                 1.0                1.0   \n",
            "75%               1.0                 1.0                1.0   \n",
            "max               1.0                 1.0                1.0   \n",
            "\n",
            "       ResourceStackOverflow  ResourceTreehouse  ResourceUdacity  \\\n",
            "count                  191.0              422.0           3306.0   \n",
            "mean                     1.0                1.0              1.0   \n",
            "std                      0.0                0.0              0.0   \n",
            "min                      1.0                1.0              1.0   \n",
            "25%                      1.0                1.0              1.0   \n",
            "50%                      1.0                1.0              1.0   \n",
            "75%                      1.0                1.0              1.0   \n",
            "max                      1.0                1.0              1.0   \n",
            "\n",
            "       ResourceUdemy  ResourceW3Schools  ResourceYouTube  StudentDebtOwe  \n",
            "count         4130.0              121.0            121.0     3514.000000  \n",
            "mean             1.0                1.0              1.0    34556.143711  \n",
            "std              0.0                0.0              0.0    54423.139781  \n",
            "min              1.0                1.0              1.0        0.000000  \n",
            "25%              1.0                1.0              1.0    10000.000000  \n",
            "50%              1.0                1.0              1.0    20000.000000  \n",
            "75%              1.0                1.0              1.0    40000.000000  \n",
            "max              1.0                1.0              1.0  1000000.000000  \n",
            "\n",
            "[8 rows x 85 columns]\n"
          ]
        }
      ]
    },
    {
      "cell_type": "code",
      "source": [
        "# Lista todas as colunas\n",
        "\n",
        "list(df)"
      ],
      "metadata": {
        "colab": {
          "base_uri": "https://localhost:8080/"
        },
        "id": "D6ex5Xay2JCR",
        "outputId": "a1968e1d-de22-48be-fe44-f982511984a6"
      },
      "execution_count": 29,
      "outputs": [
        {
          "output_type": "execute_result",
          "data": {
            "text/plain": [
              "['Age',\n",
              " 'AttendedBootcamp',\n",
              " 'BootcampFinish',\n",
              " 'BootcampFullJobAfter',\n",
              " 'BootcampLoanYesNo',\n",
              " 'BootcampMonthsAgo',\n",
              " 'BootcampName',\n",
              " 'BootcampPostSalary',\n",
              " 'BootcampRecommend',\n",
              " 'ChildrenNumber',\n",
              " 'CityPopulation',\n",
              " 'CodeEventBootcamp',\n",
              " 'CodeEventCoffee',\n",
              " 'CodeEventConferences',\n",
              " 'CodeEventDjangoGirls',\n",
              " 'CodeEventGameJam',\n",
              " 'CodeEventGirlDev',\n",
              " 'CodeEventHackathons',\n",
              " 'CodeEventMeetup',\n",
              " 'CodeEventNodeSchool',\n",
              " 'CodeEventNone',\n",
              " 'CodeEventOther',\n",
              " 'CodeEventRailsBridge',\n",
              " 'CodeEventRailsGirls',\n",
              " 'CodeEventStartUpWknd',\n",
              " 'CodeEventWomenCode',\n",
              " 'CodeEventWorkshop',\n",
              " 'CommuteTime',\n",
              " 'CountryCitizen',\n",
              " 'CountryLive',\n",
              " 'EmploymentField',\n",
              " 'EmploymentFieldOther',\n",
              " 'EmploymentStatus',\n",
              " 'EmploymentStatusOther',\n",
              " 'ExpectedEarning',\n",
              " 'FinanciallySupporting',\n",
              " 'Gender',\n",
              " 'HasChildren',\n",
              " 'HasDebt',\n",
              " 'HasFinancialDependents',\n",
              " 'HasHighSpdInternet',\n",
              " 'HasHomeMortgage',\n",
              " 'HasServedInMilitary',\n",
              " 'HasStudentDebt',\n",
              " 'HomeMortgageOwe',\n",
              " 'HoursLearning',\n",
              " 'ID.x',\n",
              " 'ID.y',\n",
              " 'Income',\n",
              " 'IsEthnicMinority',\n",
              " 'IsReceiveDiabilitiesBenefits',\n",
              " 'IsSoftwareDev',\n",
              " 'IsUnderEmployed',\n",
              " 'JobApplyWhen',\n",
              " 'JobPref',\n",
              " 'JobRelocateYesNo',\n",
              " 'JobRoleInterest',\n",
              " 'JobRoleInterestOther',\n",
              " 'JobWherePref',\n",
              " 'LanguageAtHome',\n",
              " 'MaritalStatus',\n",
              " 'MoneyForLearning',\n",
              " 'MonthsProgramming',\n",
              " 'NetworkID',\n",
              " 'Part1EndTime',\n",
              " 'Part1StartTime',\n",
              " 'Part2EndTime',\n",
              " 'Part2StartTime',\n",
              " 'PodcastChangeLog',\n",
              " 'PodcastCodeNewbie',\n",
              " 'PodcastCodingBlocks',\n",
              " 'PodcastDeveloperTea',\n",
              " 'PodcastDotNetRocks',\n",
              " 'PodcastHanselminutes',\n",
              " 'PodcastJSJabber',\n",
              " 'PodcastJsAir',\n",
              " 'PodcastNone',\n",
              " 'PodcastOther',\n",
              " 'PodcastProgrammingThrowDown',\n",
              " 'PodcastRubyRogues',\n",
              " 'PodcastSEDaily',\n",
              " 'PodcastShopTalk',\n",
              " 'PodcastTalkPython',\n",
              " 'PodcastWebAhead',\n",
              " 'ResourceBlogs',\n",
              " 'ResourceBooks',\n",
              " 'ResourceCodeWars',\n",
              " 'ResourceCodecademy',\n",
              " 'ResourceCoursera',\n",
              " 'ResourceDevTips',\n",
              " 'ResourceEdX',\n",
              " 'ResourceEggHead',\n",
              " 'ResourceFCC',\n",
              " 'ResourceGoogle',\n",
              " 'ResourceHackerRank',\n",
              " 'ResourceKhanAcademy',\n",
              " 'ResourceLynda',\n",
              " 'ResourceMDN',\n",
              " 'ResourceOdinProj',\n",
              " 'ResourceOther',\n",
              " 'ResourcePluralSight',\n",
              " 'ResourceReddit',\n",
              " 'ResourceSkillCrush',\n",
              " 'ResourceSoloLearn',\n",
              " 'ResourceStackOverflow',\n",
              " 'ResourceTreehouse',\n",
              " 'ResourceUdacity',\n",
              " 'ResourceUdemy',\n",
              " 'ResourceW3Schools',\n",
              " 'ResourceYouTube',\n",
              " 'SchoolDegree',\n",
              " 'SchoolMajor',\n",
              " 'StudentDebtOwe']"
            ]
          },
          "metadata": {},
          "execution_count": 29
        }
      ]
    },
    {
      "cell_type": "markdown",
      "source": [
        "#Distribuição de Idade"
      ],
      "metadata": {
        "id": "T2N5pTgj5nJG"
      }
    },
    {
      "cell_type": "code",
      "source": [
        "# Qual a distribuição de idade dos participantes da pesquisa?\n",
        "# A maioria dos profissionais que trabalham como programadores de \n",
        "# software estão na faixa de idade entre 20 e 30 anos, sendo 25 anos \n",
        "# a idade mais frequente.\n",
        "\n",
        "# Gerando um histograma\n",
        "df.Age.hist(bins = 60)\n",
        "plt.xlabel(\"Idade\")\n",
        "plt.ylabel(\"Número de Profissionais\")\n",
        "plt.title(\"Distribuição de Idade\")\n",
        "plt.show"
      ],
      "metadata": {
        "colab": {
          "base_uri": "https://localhost:8080/",
          "height": 328
        },
        "id": "3tsMtKzJ2I_i",
        "outputId": "762761e7-129b-4c29-e7b4-66732ec2b834"
      },
      "execution_count": 30,
      "outputs": [
        {
          "output_type": "execute_result",
          "data": {
            "text/plain": [
              "<function matplotlib.pyplot.show(*args, **kw)>"
            ]
          },
          "metadata": {},
          "execution_count": 30
        },
        {
          "output_type": "display_data",
          "data": {
            "text/plain": [
              "<Figure size 432x288 with 1 Axes>"
            ],
            "image/png": "[encoded data removed]"
          },
          "metadata": {
            "needs_background": "light"
          }
        }
      ]
    },
    {
      "cell_type": "markdown",
      "source": [
        "#Distribuição de Sexo"
      ],
      "metadata": {
        "id": "vbSZyfo59UZ2"
      }
    },
    {
      "cell_type": "code",
      "source": [
        "# Qual é a distribuição de sexo dos participantes da pesquisa?\n",
        "# A grande maioria dos programadores é do sexo masculino\n",
        "\n",
        "# Definindo a quantidade\n",
        "labels = df.Gender.value_counts().index\n",
        "num = len(df.EmploymentField.value_counts().index)\n",
        "\n",
        "# Criando a lista de cores\n",
        "listaHSV = [(x*1.0/num,0.5, 0.5) for x in range(num)]\n",
        "listaRGB = list(map(lambda x: colorsys.hsv_to_rgb(*x),listaHSV))\n",
        "\n",
        "# Gráfico de Pizza\n",
        "fatias, texto = plt.pie(df.Gender.value_counts(), colors = listaRGB, startangle = 90)\n",
        "#plt.axes().set_aspect('equal', 'datalim')\n",
        "plt.legend(fatias, labels, bbox_to_anchor = (1.05,1))\n",
        "plt.title('Sexo')\n",
        "plt.show()"
      ],
      "metadata": {
        "id": "FJYSWYwB2I8k",
        "colab": {
          "base_uri": "https://localhost:8080/",
          "height": 266
        },
        "outputId": "19c6ed0d-f4b8-4c86-cd2e-5556282bb647"
      },
      "execution_count": 33,
      "outputs": [
        {
          "output_type": "display_data",
          "data": {
            "text/plain": [
              "<Figure size 432x288 with 1 Axes>"
            ],
            "image/png": "[encoded data removed]"
          },
          "metadata": {}
        }
      ]
    },
    {
      "cell_type": "markdown",
      "source": [
        "#Distribuição de Interesses\n"
      ],
      "metadata": {
        "id": "nvCDGw7oCit2"
      }
    },
    {
      "cell_type": "code",
      "source": [
        "# Quais sãos os principais interesses dos participantes da pesquisa?\n",
        "# O principal interesse profissional dos programadores é o desenvolvimento web (Full-Stack, Front-End e Back-End), \n",
        "# seguido pela área de Data Science.\n",
        "\n",
        "# Definindo a quantidade"
      ],
      "metadata": {
        "id": "XetjNvOy2I50"
      },
      "execution_count": null,
      "outputs": []
    },
    {
      "cell_type": "code",
      "source": [],
      "metadata": {
        "id": "cyvKBs362I2-"
      },
      "execution_count": null,
      "outputs": []
    },
    {
      "cell_type": "code",
      "source": [],
      "metadata": {
        "id": "TBG2Bi9S2I0E"
      },
      "execution_count": null,
      "outputs": []
    },
    {
      "cell_type": "code",
      "source": [],
      "metadata": {
        "id": "MlDD_KBM2IxJ"
      },
      "execution_count": null,
      "outputs": []
    },
    {
      "cell_type": "code",
      "source": [],
      "metadata": {
        "id": "Knd78fio2IuP"
      },
      "execution_count": null,
      "outputs": []
    },
    {
      "cell_type": "code",
      "source": [],
      "metadata": {
        "id": "Qgg7M9Oz2IrR"
      },
      "execution_count": null,
      "outputs": []
    },
    {
      "cell_type": "code",
      "source": [],
      "metadata": {
        "id": "Ch-iL4He2IoX"
      },
      "execution_count": null,
      "outputs": []
    },
    {
      "cell_type": "code",
      "source": [],
      "metadata": {
        "id": "fx9DCIB-2Ilf"
      },
      "execution_count": null,
      "outputs": []
    },
    {
      "cell_type": "code",
      "source": [],
      "metadata": {
        "id": "03QEkS722Iib"
      },
      "execution_count": null,
      "outputs": []
    },
    {
      "cell_type": "code",
      "source": [],
      "metadata": {
        "id": "bL1mLpDR2Ifj"
      },
      "execution_count": null,
      "outputs": []
    },
    {
      "cell_type": "code",
      "source": [],
      "metadata": {
        "id": "mrzVFjC22Ich"
      },
      "execution_count": null,
      "outputs": []
    },
    {
      "cell_type": "code",
      "source": [],
      "metadata": {
        "id": "oBc7mtKu2IZX"
      },
      "execution_count": null,
      "outputs": []
    },
    {
      "cell_type": "code",
      "source": [],
      "metadata": {
        "id": "2XsJZw392IWO"
      },
      "execution_count": null,
      "outputs": []
    },
    {
      "cell_type": "code",
      "source": [],
      "metadata": {
        "id": "KhL5jwZQ2IT0"
      },
      "execution_count": null,
      "outputs": []
    },
    {
      "cell_type": "code",
      "source": [],
      "metadata": {
        "id": "qIaOYMTx2IQz"
      },
      "execution_count": null,
      "outputs": []
    },
    {
      "cell_type": "code",
      "source": [],
      "metadata": {
        "id": "XFH6_4fm2INn"
      },
      "execution_count": null,
      "outputs": []
    },
    {
      "cell_type": "code",
      "source": [],
      "metadata": {
        "id": "mDxmTqvf2IKk"
      },
      "execution_count": null,
      "outputs": []
    }
  ]
}