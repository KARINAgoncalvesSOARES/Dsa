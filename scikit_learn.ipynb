{
  "cells": [
    {
      "cell_type": "markdown",
      "metadata": {
        "id": "view-in-github",
        "colab_type": "text"
      },
      "source": [
        "<a href=\"https://colab.research.google.com/github/KARINAgoncalvesSOARES/Dsa/blob/main/scikit_learn.ipynb\" target=\"_parent\"><img src=\"https://colab.research.google.com/assets/colab-badge.svg\" alt=\"Open In Colab\"/></a>"
      ]
    },
    {
      "cell_type": "markdown",
      "id": "07887244",
      "metadata": {
        "id": "07887244"
      },
      "source": [
        "# Scikit-learn\n",
        "\n",
        "Data Scientist.: Karina Gonçalves Soares\n",
        "\n",
        "#### Prevendo o preço da pizza"
      ]
    },
    {
      "cell_type": "code",
      "execution_count": null,
      "id": "c9631bff",
      "metadata": {
        "id": "c9631bff"
      },
      "outputs": [],
      "source": [
        "# Importando bibliotecas\n",
        "\n",
        "import matplotlib.pyplot as plt\n",
        "import matplotlib as mat\n",
        "import numpy as np\n",
        "import pandas as pd\n",
        "%matplotlib inline"
      ]
    },
    {
      "cell_type": "markdown",
      "id": "7c1c3f27",
      "metadata": {
        "id": "7c1c3f27"
      },
      "source": [
        "### Registro de tamanho e preço das pizzas:"
      ]
    },
    {
      "cell_type": "code",
      "execution_count": null,
      "id": "0f83438b",
      "metadata": {
        "id": "0f83438b"
      },
      "outputs": [],
      "source": [
        "df_pizza = pd.DataFrame(data=[[7, 8], \n",
        "                                [10, 11],\n",
        "                                [15, 16],\n",
        "                                [30, 38.5],\n",
        "                                [45, 52]], columns=['Diâmetro(cm)', 'Preço(R$)'])"
      ]
    },
    {
      "cell_type": "code",
      "execution_count": null,
      "id": "0576bff6",
      "metadata": {
        "id": "0576bff6",
        "outputId": "9efaf06e-86c9-4106-e546-848d6456d1bb"
      },
      "outputs": [
        {
          "data": {
            "text/html": [
              "<div>\n",
              "<style scoped>\n",
              "    .dataframe tbody tr th:only-of-type {\n",
              "        vertical-align: middle;\n",
              "    }\n",
              "\n",
              "    .dataframe tbody tr th {\n",
              "        vertical-align: top;\n",
              "    }\n",
              "\n",
              "    .dataframe thead th {\n",
              "        text-align: right;\n",
              "    }\n",
              "</style>\n",
              "<table border=\"1\" class=\"dataframe\">\n",
              "  <thead>\n",
              "    <tr style=\"text-align: right;\">\n",
              "      <th></th>\n",
              "      <th>Diâmetro(cm)</th>\n",
              "      <th>Preço(R$)</th>\n",
              "    </tr>\n",
              "  </thead>\n",
              "  <tbody>\n",
              "    <tr>\n",
              "      <th>0</th>\n",
              "      <td>7</td>\n",
              "      <td>8.0</td>\n",
              "    </tr>\n",
              "    <tr>\n",
              "      <th>1</th>\n",
              "      <td>10</td>\n",
              "      <td>11.0</td>\n",
              "    </tr>\n",
              "    <tr>\n",
              "      <th>2</th>\n",
              "      <td>15</td>\n",
              "      <td>16.0</td>\n",
              "    </tr>\n",
              "    <tr>\n",
              "      <th>3</th>\n",
              "      <td>30</td>\n",
              "      <td>38.5</td>\n",
              "    </tr>\n",
              "    <tr>\n",
              "      <th>4</th>\n",
              "      <td>45</td>\n",
              "      <td>52.0</td>\n",
              "    </tr>\n",
              "  </tbody>\n",
              "</table>\n",
              "</div>"
            ],
            "text/plain": [
              "   Diâmetro(cm)  Preço(R$)\n",
              "0             7        8.0\n",
              "1            10       11.0\n",
              "2            15       16.0\n",
              "3            30       38.5\n",
              "4            45       52.0"
            ]
          },
          "execution_count": 3,
          "metadata": {},
          "output_type": "execute_result"
        }
      ],
      "source": [
        "df_pizza"
      ]
    },
    {
      "cell_type": "code",
      "execution_count": null,
      "id": "d5f36b87",
      "metadata": {
        "id": "d5f36b87"
      },
      "outputs": [],
      "source": [
        "# Diâmetros (cm)\n",
        "diametros = [[7],[10], [15], [30], [45]]\n",
        "\n",
        "# Preços (R$)\n",
        "precos = [[8], [11], [16], [38.5], [52]]"
      ]
    },
    {
      "cell_type": "code",
      "execution_count": null,
      "id": "06f72129",
      "metadata": {
        "id": "06f72129",
        "outputId": "de1eea6d-55bb-4312-c38d-33e823609910"
      },
      "outputs": [
        {
          "data": {
            "image/png": "[encoded data removed]",
            "text/plain": [
              "<Figure size 432x288 with 1 Axes>"
            ]
          },
          "metadata": {
            "needs_background": "light"
          },
          "output_type": "display_data"
        }
      ],
      "source": [
        "# Visualização dos dados\n",
        "\n",
        "#fig = plt.figure(figsize = (10,9))\n",
        "plt.figure()\n",
        "plt.xlabel('Diâmetro(cm)',color = 'red', fontsize = 12)\n",
        "plt.ylabel('Preço(R$)', color = 'red',fontsize = 12)\n",
        "plt.title('Diâmetro x Preço', fontsize = 20, c='r')\n",
        "#plt.plot(diametros, precos, 'k.')\n",
        "plt.scatter(diametros, precos, marker = 'o', color = 'r')\n",
        "plt.plot(diametros, precos, color = 'b')\n",
        "plt.axis([0, 80, 0, 60])\n",
        "plt.grid(True)\n",
        "plt.show()"
      ]
    },
    {
      "cell_type": "code",
      "execution_count": null,
      "id": "48f63727",
      "metadata": {
        "id": "48f63727"
      },
      "outputs": [],
      "source": [
        ""
      ]
    },
    {
      "cell_type": "markdown",
      "id": "3f7201e9",
      "metadata": {
        "id": "3f7201e9"
      },
      "source": [
        ""
      ]
    }
  ],
  "metadata": {
    "kernelspec": {
      "display_name": "Python 3 (ipykernel)",
      "language": "python",
      "name": "python3"
    },
    "language_info": {
      "codemirror_mode": {
        "name": "ipython",
        "version": 3
      },
      "file_extension": ".py",
      "mimetype": "text/x-python",
      "name": "python",
      "nbconvert_exporter": "python",
      "pygments_lexer": "ipython3",
      "version": "3.8.10"
    },
    "colab": {
      "name": "scikit_learn.ipynb",
      "provenance": [],
      "include_colab_link": true
    }
  },
  "nbformat": 4,
  "nbformat_minor": 5
}