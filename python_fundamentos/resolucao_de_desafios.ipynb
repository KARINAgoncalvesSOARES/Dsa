{
  "nbformat": 4,
  "nbformat_minor": 0,
  "metadata": {
    "colab": {
      "provenance": [],
      "authorship_tag": "ABX9TyN7kY4x4kS364ap7Ymla0lF",
      "include_colab_link": true
    },
    "kernelspec": {
      "name": "python3",
      "display_name": "Python 3"
    },
    "language_info": {
      "name": "python"
    }
  },
  "cells": [
    {
      "cell_type": "markdown",
      "metadata": {
        "id": "view-in-github",
        "colab_type": "text"
      },
      "source": [
        "<a href=\"https://colab.research.google.com/github/KARINAgoncalvesSOARES/Dsa/blob/main/resolucao_de_desafios.ipynb\" target=\"_parent\"><img src=\"https://colab.research.google.com/assets/colab-badge.svg\" alt=\"Open In Colab\"/></a>"
      ]
    },
    {
      "cell_type": "markdown",
      "source": [
        "#<h2 align=center>Resolução de Desafios.\n",
        "\n",
        "Data Scientist Jr.: Karina Gonçalves Soares\n",
        "\n",
        "\n",
        "Links de estudo:\n",
        "\n",
        "* [https://www.youtube.com/watch?v=cW_-2b9TeCM&list=PLA05yVJtRWYQ-8I-kJCW2lCeWVUQNFC67](https://)\n",
        "[https://wiki.python.org.br/ListaDeExercicios](https://)"
      ],
      "metadata": {
        "id": "F3wLQGcqdpB-"
      }
    },
    {
      "cell_type": "markdown",
      "source": [
        "#ESTRUTURA SEQUENCIAL\n",
        "[https://wiki.python.org.br/EstruturaSequencial](https://)"
      ],
      "metadata": {
        "id": "h0njrObzehQ_"
      }
    },
    {
      "cell_type": "markdown",
      "source": [
        "exercício 1"
      ],
      "metadata": {
        "id": "KJp009gCjH3r"
      }
    },
    {
      "cell_type": "code",
      "execution_count": null,
      "metadata": {
        "id": "zKgqE4gwaWaq",
        "colab": {
          "base_uri": "https://localhost:8080/"
        },
        "outputId": "31eea2f9-e9fb-4414-e72d-0b783480b61c"
      },
      "outputs": [
        {
          "output_type": "stream",
          "name": "stdout",
          "text": [
            "olá mundo!\n"
          ]
        }
      ],
      "source": [
        "print('Olá mundo!')"
      ]
    },
    {
      "cell_type": "code",
      "source": [
        "type('Olá mundo!')"
      ],
      "metadata": {
        "colab": {
          "base_uri": "https://localhost:8080/"
        },
        "id": "X-M87LvYiWxS",
        "outputId": "5e8ec2c8-d189-41a9-f0a8-c719669ef277"
      },
      "execution_count": null,
      "outputs": [
        {
          "output_type": "execute_result",
          "data": {
            "text/plain": [
              "str"
            ]
          },
          "metadata": {},
          "execution_count": 6
        }
      ]
    },
    {
      "cell_type": "markdown",
      "source": [
        "exercício 2"
      ],
      "metadata": {
        "id": "bxmEhpwtjO8G"
      }
    },
    {
      "cell_type": "code",
      "source": [
        "num = float(input('Digite um número:'))\n",
        "print('O número informado foi: {}.'.format(num))"
      ],
      "metadata": {
        "colab": {
          "base_uri": "https://localhost:8080/"
        },
        "id": "5ecHJ12ZiWuo",
        "outputId": "246d9f20-f419-4f27-9815-fff9306f9e4c"
      },
      "execution_count": null,
      "outputs": [
        {
          "output_type": "stream",
          "name": "stdout",
          "text": [
            "Digite um número:123\n",
            "O número informado foi: 123.0.\n"
          ]
        }
      ]
    },
    {
      "cell_type": "markdown",
      "source": [
        "exercício 3"
      ],
      "metadata": {
        "id": "QyyAzm3olCbu"
      }
    },
    {
      "cell_type": "code",
      "source": [
        "n1 = float(input('Informe o primeiro número:'))\n",
        "n2 = float(input('Informe o segundo número:'))\n",
        "soma = n1 + n2\n",
        "print('A soma de {} + {} é igual á {}.'.format(n1, n2, soma))\n",
        "type(n1)\n",
        "type(n2)"
      ],
      "metadata": {
        "colab": {
          "base_uri": "https://localhost:8080/"
        },
        "id": "8-Jq6m-qiWr7",
        "outputId": "64b8093e-4835-45dc-c60e-357b5506400a"
      },
      "execution_count": null,
      "outputs": [
        {
          "output_type": "stream",
          "name": "stdout",
          "text": [
            "Informe o primeiro número:1\n",
            "Informe o segundo número:2\n",
            "A soma de 1.0 + 2.0 é igual á 3.0.\n"
          ]
        },
        {
          "output_type": "execute_result",
          "data": {
            "text/plain": [
              "float"
            ]
          },
          "metadata": {},
          "execution_count": 12
        }
      ]
    },
    {
      "cell_type": "markdown",
      "source": [
        "Dever de casa: exercício 17\n",
        "\n",
        "17- Faça um Programa para uma loja de tintas. O programa deverá pedir o tamanho em metros quadrados da área a ser pintada. Considere que a cobertura da tinta é de 1 litro para cada 6 metros quadrados e que a tinta é vendida em latas de 18 litros, que custam R$ 80,00 ou em galões de 3,6 litros, que custam R$ 25,00.\n",
        "  Informe ao usuário as quantidades de tinta a serem compradas e os respectivos preços em 3 situações:\n",
        "\n",
        "\n",
        "*  comprar apenas latas de 18 litros;\n",
        "*  comprar apenas galões de 3,6 litros;\n",
        "*  misturar latas e galões, de forma que o desperdício de tinta seja menor. Acrescente 10% de folga e sempre arredonde os valores para cima, isto é, considere latas cheias.\n"
      ],
      "metadata": {
        "id": "fDqRVttomrPR"
      }
    },
    {
      "cell_type": "code",
      "source": [
        "\n",
        "area = float(input('Informe a altura da áre a ser pintada:'))\n",
        "area1 = float(input('Informe a largura da área a ser pintda:'))\n",
        "m2 = area * area1\n",
        "divisaodometro = m2 / 6\n",
        "tinta = divisaodometro - 18\n",
        "valor = tinta * 80\n",
        "\n",
        "print(' A área a ser pintada tem {:.2f}m².\\n*Se você optar por comprar a lata de 18L, será necessário {} latas de tintas, que custará R${}.'.format(m2, tinta, valor))"
      ],
      "metadata": {
        "colab": {
          "base_uri": "https://localhost:8080/"
        },
        "id": "KYNifrNoiWpI",
        "outputId": "4d601434-7948-4e07-fb85-1fee98049e28"
      },
      "execution_count": null,
      "outputs": [
        {
          "output_type": "stream",
          "name": "stdout",
          "text": [
            "Informe a altura da áre a ser pintada:7\n",
            "Informe a largura da área a ser pintda:6\n",
            " A área a ser pintada tem 42.00m².\n",
            "*Se você optar por comprar a lata de 18L, será necessário -11.0 latas de tintas, que custará R$-880.0.\n"
          ]
        }
      ]
    },
    {
      "cell_type": "markdown",
      "source": [
        "#ESTRUTURA DE DECISÃO\n",
        "[https://www.youtube.com/watch?v=pzPtmdYpi2o&list=PLA05yVJtRWYQ-8I-kJCW2lCeWVUQNFC67&index=2&ab_channel=CanalPythonProBr\n",
        "](https://)"
      ],
      "metadata": {
        "id": "8f13jLK9HYJ3"
      }
    },
    {
      "cell_type": "markdown",
      "source": [
        "exercício 3\n",
        "\n",
        "Faça um Programa que verifique se uma letra digitada é \"F\" ou \"M\". Conforme a letra escrever: F - Feminino, M - Masculino, Sexo Inválido."
      ],
      "metadata": {
        "id": "aofQtTyuIqKw"
      }
    },
    {
      "cell_type": "code",
      "source": [
        "letra = str(input('Informe o seu sexo considerando M como masculino, F como feminino e I para indefinido.')).upper().strip()\n",
        "if letra == 'F':\n",
        "  print('Sexo: Feminino. ')\n",
        "elif letra == 'M':\n",
        "  print('Sexo: Masculino.')\n",
        "elif letra == 'I':\n",
        "  print('Sexo indefinido.')\n",
        "else:\n",
        "  print('Sexo inválido.')"
      ],
      "metadata": {
        "colab": {
          "base_uri": "https://localhost:8080/"
        },
        "id": "3iwmYOsRiWgo",
        "outputId": "ff807165-4b3d-4c97-f7b7-8412a93920e2"
      },
      "execution_count": null,
      "outputs": [
        {
          "output_type": "stream",
          "name": "stdout",
          "text": [
            "Informe o seu sexo considerando M como masculino, F como feminino e I para indefinido.i\n",
            "Sexo indefinido.\n"
          ]
        }
      ]
    },
    {
      "cell_type": "code",
      "source": [
        "True,False\n",
        "print('m'=='m')\n",
        "print(5 == 'm')\n",
        "print('KARINA'.lower())"
      ],
      "metadata": {
        "colab": {
          "base_uri": "https://localhost:8080/"
        },
        "id": "gAOYmhlGiWds",
        "outputId": "1d7662fc-7b1a-4b4d-b0b9-2f018b50e9e1"
      },
      "execution_count": null,
      "outputs": [
        {
          "output_type": "stream",
          "name": "stdout",
          "text": [
            "True\n",
            "False\n",
            "karina\n"
          ]
        }
      ]
    },
    {
      "cell_type": "markdown",
      "source": [
        "\n",
        "exercício 5 \n",
        "\n",
        "Faça um programa para a leitura de duas notas parciais de um aluno. O programa deve calcular a média alcançada por aluno e apresentar:\n",
        "A mensagem \"Aprovado\", se a média alcançada for maior ou igual a sete;\n",
        "A mensagem \"Reprovado\", se a média for menor do que sete;\n",
        "A mensagem \"Aprovado com Distinção\", se a média for igual a dez."
      ],
      "metadata": {
        "id": "H_KoRI8SQ8vG"
      }
    },
    {
      "cell_type": "code",
      "source": [
        "nota1 = float(input('Digite a nota da primeira prova:'))\n",
        "nota2 = float(input('Digite a nota da segunda prova:'))\n",
        "media = (nota1 + nota2) / 2\n",
        "if media >= 10:\n",
        "  print('Aprovado com distinção!')\n",
        "elif media >= 7:\n",
        "  print('Aprovado!')\n",
        "elif media < 7:\n",
        "  print('Reprovado.')"
      ],
      "metadata": {
        "colab": {
          "base_uri": "https://localhost:8080/"
        },
        "id": "GSHn1pAPiWbI",
        "outputId": "517a01c8-da22-43ee-a822-d9083d239b5b"
      },
      "execution_count": null,
      "outputs": [
        {
          "output_type": "stream",
          "name": "stdout",
          "text": [
            "Digite a nota da primeira prova:7\n",
            "Digite a nota da segunda prova:8\n",
            "Aprovado!\n"
          ]
        }
      ]
    },
    {
      "cell_type": "markdown",
      "source": [
        "exercício 19\n",
        "\n",
        " Faça um Programa que leia um número inteiro menor que 1000 e imprima a quantidade de centenas, dezenas e unidades do mesmo.\n",
        "Observando os termos no plural a colocação do \"e\", da vírgula entre outros. Exemplo:\n",
        "326 = 3 centenas, 2 dezenas e 6 unidades\n",
        "12 = 1 dezena e 2 unidades Testar com: 326, 300, 100, 320, 310,305, 301, 101, 311, 111, 25, 20, 10, 21, 11, 1, 7 e 16"
      ],
      "metadata": {
        "id": "9ymFGrM2Zi7F"
      }
    },
    {
      "cell_type": "code",
      "source": [
        "num = 326\n",
        "centenas_str = dezenas_str = unidades_str = ''\n",
        "centenas_int = num // 100\n",
        "\n",
        "if centenas_int == 1:\n",
        "  centenas_str = '1 centena'\n",
        "elif centenas_int > 1:\n",
        "  centenas_str = f'{centenas_int} centenas' #F STR É COMANDO DE SUBSTITUIÇÃO DO .FORMAT()\n",
        "\n",
        "print(centenas_str, dezenas_str, unidades_str)"
      ],
      "metadata": {
        "colab": {
          "base_uri": "https://localhost:8080/"
        },
        "id": "cX_9LpPtiWYQ",
        "outputId": "71ce26c0-f289-4b60-f23e-0c97eeebf247"
      },
      "execution_count": null,
      "outputs": [
        {
          "output_type": "stream",
          "name": "stdout",
          "text": [
            "3 centenas  \n"
          ]
        }
      ]
    },
    {
      "cell_type": "markdown",
      "source": [
        "#ESTRUTURA DE REPETIÇÃO\n",
        "[https://wiki.python.org.br/EstruturaDeRepeticao](https://)\n"
      ],
      "metadata": {
        "id": "1MeWL8J4r0WT"
      }
    },
    {
      "cell_type": "markdown",
      "source": [
        "exercício 1\n",
        "\n",
        "Faça um programa que peça uma nota, entre zero e dez. Mostre uma mensagem caso o valor seja inválido e continue pedindo até que o usuário informe um valor válido."
      ],
      "metadata": {
        "id": "50_HcP4zsCuG"
      }
    },
    {
      "cell_type": "code",
      "source": [
        "#esse programa está errado\n",
        "nota = int(input('Digite uma nota entre 0 e 10:'))\n",
        "while nota <= 10:\n",
        "  print('Nota válida.')\n",
        "print('Nota inválida.')\n"
      ],
      "metadata": {
        "colab": {
          "base_uri": "https://localhost:8080/",
          "height": 52
        },
        "id": "H5P09Pm_iWU6",
        "outputId": "e4511a13-2008-4daa-c4d9-dccba76c54b7"
      },
      "execution_count": null,
      "outputs": [
        {
          "output_type": "execute_result",
          "data": {
            "application/vnd.google.colaboratory.intrinsic+json": {
              "type": "string"
            },
            "text/plain": [
              "\"nota = int(input('Digite uma nota entre 0 e 10:'))\\nwhile nota <= 10:\\n  print('Nota válida.')\\nprint('Nota inválida.')\""
            ]
          },
          "metadata": {},
          "execution_count": 1
        }
      ]
    }
  ]
}