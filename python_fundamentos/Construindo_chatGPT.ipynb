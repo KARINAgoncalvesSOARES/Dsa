{
 "cells": [
  {
   "cell_type": "markdown",
   "metadata": {},
   "source": [
    "<h1 align=\"center\"> Construindo Chatbot com API OpenAI</h1>"
   ]
  },
  {
   "cell_type": "markdown",
   "metadata": {},
   "source": [
    "Data Scientist Jr.: Karina Gonçalves Soares"
   ]
  },
  {
   "cell_type": "markdown",
   "metadata": {},
   "source": [
    "Link de estudo:\n",
    "\n",
    "* [O que é um chatbot](https://www.datascienceacademy.com.br/path-player?courseid=fundamentos-de-linguagem-python-para-analise-de-dados-e-data-science&unit=64625d8d30b60f7d50059ff8Unit)\n",
    "\n",
    "* [API_OpenAI_with_Python](https://huggingface.co/spaces/EddyGiusepe/API_OpenAI_with_Python/blob/main/main-1.py)"
   ]
  },
  {
   "cell_type": "code",
   "execution_count": 5,
   "metadata": {},
   "outputs": [
    {
     "name": "stdout",
     "output_type": "stream",
     "text": [
      "Note: you may need to restart the kernel to use updated packages.\n"
     ]
    }
   ],
   "source": [
    "#%pip install -q openai\n",
    "#%pip install -q requests\n",
    "#%pip install -q python-dotenv\n",
    "#%pip install -q openai==0.28"
   ]
  },
  {
   "cell_type": "code",
   "execution_count": 2,
   "metadata": {},
   "outputs": [],
   "source": [
    "import openai # Interagir com API OpenAI\n",
    "import os # Funcionalidades relacionadas ao sistema operacional\n",
    "from dotenv import load_dotenv, find_dotenv # Facilita a leitura do arquivo .env\n",
    "\n",
    "\n",
    "# Carrega as variáveis do arquivo env e Define a chave\n",
    "_ = load_dotenv(find_dotenv()) # read local .env file\n",
    "openai.api_key  = os.environ['OPENAI_API_KEY']"
   ]
  },
  {
   "cell_type": "code",
   "execution_count": 5,
   "metadata": {},
   "outputs": [
    {
     "name": "stdout",
     "output_type": "stream",
     "text": [
      "Os nomes mais utilizados para bebês podem variar de acordo com o país e a cultura. No entanto, alguns nomes populares em várias partes do mundo incluem:\n",
      "\n",
      "Para meninas:\n",
      "1. Sophia\n",
      "2. Olivia\n",
      "3. Emma\n",
      "4. Ava\n",
      "5. Isabella\n",
      "6. Mia\n",
      "7. Charlotte\n",
      "8. Amelia\n",
      "9. Harper\n",
      "10. Evelyn\n",
      "\n",
      "Para meninos:\n",
      "1. Liam\n",
      "2. Noah\n",
      "3. Oliver\n",
      "4. William\n",
      "5. Elijah\n",
      "6. James\n",
      "7. Benjamin\n",
      "8. Lucas\n",
      "9. Henry\n",
      "10. Alexander\n",
      "\n",
      "Esses são apenas alguns exemplos e a popularidade dos nomes pode variar ao longo do tempo. É importante lembrar que a escolha do nome é pessoal e única para cada família.\n"
     ]
    }
   ],
   "source": [
    "def get_completion(query, model=\"gpt-3.5-turbo\", temperature=0):\n",
    "    \n",
    "    messages = [{\"role\": \"user\", \"content\": query}]\n",
    "    \n",
    "    response = openai.ChatCompletion.create(model=model,\n",
    "                                            messages=messages,\n",
    "                                            temperature=temperature,\n",
    "                                           )\n",
    "\n",
    "    return response.choices[0].message[\"content\"]\n",
    "\n",
    "# Aqui você realiza a sua query, dentro da função 🤗:\n",
    "response = get_completion(\"Quais são os nomes mais utilizados para bebês?\")\n",
    "print(response)\n"
   ]
  },
  {
   "cell_type": "markdown",
   "metadata": {},
   "source": [
    "<font color=\"blue\">def get_completion(query, model=\"gpt-3.5-turbo\", temperature=0):</font>\n",
    "\n",
    "* A função recebe três parâmetros: `query`(a consulta ou pergunta que você deseja fazer à API), `model` (o modelo de linguagem a ser usado, com um valor padrão de \"gpt-3.5-turbo\") e `temperature` (um parâmetro que controla a aleatoriedade das respostas geradas, com um valor padrão de 0).\n",
    "\n",
    "<font color='blue'>messages = [{\"role\": \"user\", \"content\": query}]</font>\n",
    "\n",
    "* Uma mensagem é criada no formato esperado pela API. Neste caso, é uma mensagem do usuário com o conteúdo da consulta.\n",
    "\n",
    "<font color='blue'>response = openai.ChatCompletion.create(model=model,\n",
    "                                        messages=messages,\n",
    "                                        temperature=temperature,\n",
    "                                       )</font>\n",
    "\n",
    "* A função openai.ChatCompletion.create é usada para interagir com a API da OpenAI. Ela recebe o modelo a ser utilizado, as mensagens (no formato definido anteriormente) e a temperatura (para controlar a aleatoriedade).\n",
    "\n",
    "<font color='blue'>return response.choices[0].message[\"content\"]</font>\n",
    "\n",
    "* A função retorna o conteúdo da mensagem gerada pela API como resposta à consulta. `response.choices[0].message[\"content\"]` acessa o conteúdo da primeira escolha feita pela API.\n",
    "\n",
    "<font color='blue'>response = get_completion(\"pergunta aleatória(?)\")\n",
    "print(response)</font>\n",
    "\n",
    "* A função é chamada com uma consulta específica, e a resposta gerada pela API é impressa. O exemplo dado é uma pergunta sobre os nomes mais utilizados para bebês."
   ]
  }
 ],
 "metadata": {
  "kernelspec": {
   "display_name": "venv_dsa",
   "language": "python",
   "name": "python3"
  },
  "language_info": {
   "codemirror_mode": {
    "name": "ipython",
    "version": 3
   },
   "file_extension": ".py",
   "mimetype": "text/x-python",
   "name": "python",
   "nbconvert_exporter": "python",
   "pygments_lexer": "ipython3",
   "version": "3.10.12"
  }
 },
 "nbformat": 4,
 "nbformat_minor": 2
}
