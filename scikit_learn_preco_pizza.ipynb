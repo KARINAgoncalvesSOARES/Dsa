{
  "cells": [
    {
      "cell_type": "markdown",
      "metadata": {
        "id": "view-in-github",
        "colab_type": "text"
      },
      "source": [
        "<a href=\"https://colab.research.google.com/github/KARINAgoncalvesSOARES/Dsa/blob/main/scikit_learn_preco_pizza.ipynb\" target=\"_parent\"><img src=\"https://colab.research.google.com/assets/colab-badge.svg\" alt=\"Open In Colab\"/></a>"
      ]
    },
    {
      "cell_type": "markdown",
      "id": "07887244",
      "metadata": {
        "id": "07887244"
      },
      "source": [
        "## <h2 align=\"center\">Scikit-learn Prevendo o Preço da Pizza</h2>\n",
        "\n",
        "Data Scientist.: Karina Gonçalves Soares\n",
        "\n",
        "#### Prevendo o preço da pizza"
      ]
    },
    {
      "cell_type": "code",
      "execution_count": null,
      "id": "c9631bff",
      "metadata": {
        "id": "c9631bff"
      },
      "outputs": [],
      "source": [
        "# Importando bibliotecas\n",
        "\n",
        "import matplotlib.pyplot as plt\n",
        "import matplotlib as mat\n",
        "import numpy as np\n",
        "import pandas as pd\n",
        "%matplotlib inline"
      ]
    },
    {
      "cell_type": "markdown",
      "id": "7c1c3f27",
      "metadata": {
        "id": "7c1c3f27"
      },
      "source": [
        "### Registro de tamanho e preço das pizzas:"
      ]
    },
    {
      "cell_type": "code",
      "execution_count": null,
      "id": "0f83438b",
      "metadata": {
        "id": "0f83438b"
      },
      "outputs": [],
      "source": [
        "df_pizza = pd.DataFrame(data=[[7, 8], \n",
        "                                [10, 11],\n",
        "                                [15, 16],\n",
        "                                [30, 38.5],\n",
        "                                [45, 52]], columns=['Diâmetro(cm)', 'Preço(R$)'])"
      ]
    },
    {
      "cell_type": "code",
      "execution_count": null,
      "id": "0576bff6",
      "metadata": {
        "id": "0576bff6",
        "outputId": "7a4e6122-6dda-41dd-a2a9-a1b07f124af4",
        "colab": {
          "base_uri": "https://localhost:8080/",
          "height": 206
        }
      },
      "outputs": [
        {
          "output_type": "execute_result",
          "data": {
            "text/plain": [
              "   Diâmetro(cm)  Preço(R$)\n",
              "0             7        8.0\n",
              "1            10       11.0\n",
              "2            15       16.0\n",
              "3            30       38.5\n",
              "4            45       52.0"
            ],
            "text/html": [
              "\n",
              "  <div id=\"df-6570f626-9c19-4b5c-bfe0-965eb76cbbfd\">\n",
              "    <div class=\"colab-df-container\">\n",
              "      <div>\n",
              "<style scoped>\n",
              "    .dataframe tbody tr th:only-of-type {\n",
              "        vertical-align: middle;\n",
              "    }\n",
              "\n",
              "    .dataframe tbody tr th {\n",
              "        vertical-align: top;\n",
              "    }\n",
              "\n",
              "    .dataframe thead th {\n",
              "        text-align: right;\n",
              "    }\n",
              "</style>\n",
              "<table border=\"1\" class=\"dataframe\">\n",
              "  <thead>\n",
              "    <tr style=\"text-align: right;\">\n",
              "      <th></th>\n",
              "      <th>Diâmetro(cm)</th>\n",
              "      <th>Preço(R$)</th>\n",
              "    </tr>\n",
              "  </thead>\n",
              "  <tbody>\n",
              "    <tr>\n",
              "      <th>0</th>\n",
              "      <td>7</td>\n",
              "      <td>8.0</td>\n",
              "    </tr>\n",
              "    <tr>\n",
              "      <th>1</th>\n",
              "      <td>10</td>\n",
              "      <td>11.0</td>\n",
              "    </tr>\n",
              "    <tr>\n",
              "      <th>2</th>\n",
              "      <td>15</td>\n",
              "      <td>16.0</td>\n",
              "    </tr>\n",
              "    <tr>\n",
              "      <th>3</th>\n",
              "      <td>30</td>\n",
              "      <td>38.5</td>\n",
              "    </tr>\n",
              "    <tr>\n",
              "      <th>4</th>\n",
              "      <td>45</td>\n",
              "      <td>52.0</td>\n",
              "    </tr>\n",
              "  </tbody>\n",
              "</table>\n",
              "</div>\n",
              "      <button class=\"colab-df-convert\" onclick=\"convertToInteractive('df-6570f626-9c19-4b5c-bfe0-965eb76cbbfd')\"\n",
              "              title=\"Convert this dataframe to an interactive table.\"\n",
              "              style=\"display:none;\">\n",
              "        \n",
              "  <svg xmlns=\"http://www.w3.org/2000/svg\" height=\"24px\"viewBox=\"0 0 24 24\"\n",
              "       width=\"24px\">\n",
              "    <path d=\"M0 0h24v24H0V0z\" fill=\"none\"/>\n",
              "    <path d=\"M18.56 5.44l.94 2.06.94-2.06 2.06-.94-2.06-.94-.94-2.06-.94 2.06-2.06.94zm-11 1L8.5 8.5l.94-2.06 2.06-.94-2.06-.94L8.5 2.5l-.94 2.06-2.06.94zm10 10l.94 2.06.94-2.06 2.06-.94-2.06-.94-.94-2.06-.94 2.06-2.06.94z\"/><path d=\"M17.41 7.96l-1.37-1.37c-.4-.4-.92-.59-1.43-.59-.52 0-1.04.2-1.43.59L10.3 9.45l-7.72 7.72c-.78.78-.78 2.05 0 2.83L4 21.41c.39.39.9.59 1.41.59.51 0 1.02-.2 1.41-.59l7.78-7.78 2.81-2.81c.8-.78.8-2.07 0-2.86zM5.41 20L4 18.59l7.72-7.72 1.47 1.35L5.41 20z\"/>\n",
              "  </svg>\n",
              "      </button>\n",
              "      \n",
              "  <style>\n",
              "    .colab-df-container {\n",
              "      display:flex;\n",
              "      flex-wrap:wrap;\n",
              "      gap: 12px;\n",
              "    }\n",
              "\n",
              "    .colab-df-convert {\n",
              "      background-color: #E8F0FE;\n",
              "      border: none;\n",
              "      border-radius: 50%;\n",
              "      cursor: pointer;\n",
              "      display: none;\n",
              "      fill: #1967D2;\n",
              "      height: 32px;\n",
              "      padding: 0 0 0 0;\n",
              "      width: 32px;\n",
              "    }\n",
              "\n",
              "    .colab-df-convert:hover {\n",
              "      background-color: #E2EBFA;\n",
              "      box-shadow: 0px 1px 2px rgba(60, 64, 67, 0.3), 0px 1px 3px 1px rgba(60, 64, 67, 0.15);\n",
              "      fill: #174EA6;\n",
              "    }\n",
              "\n",
              "    [theme=dark] .colab-df-convert {\n",
              "      background-color: #3B4455;\n",
              "      fill: #D2E3FC;\n",
              "    }\n",
              "\n",
              "    [theme=dark] .colab-df-convert:hover {\n",
              "      background-color: #434B5C;\n",
              "      box-shadow: 0px 1px 3px 1px rgba(0, 0, 0, 0.15);\n",
              "      filter: drop-shadow(0px 1px 2px rgba(0, 0, 0, 0.3));\n",
              "      fill: #FFFFFF;\n",
              "    }\n",
              "  </style>\n",
              "\n",
              "      <script>\n",
              "        const buttonEl =\n",
              "          document.querySelector('#df-6570f626-9c19-4b5c-bfe0-965eb76cbbfd button.colab-df-convert');\n",
              "        buttonEl.style.display =\n",
              "          google.colab.kernel.accessAllowed ? 'block' : 'none';\n",
              "\n",
              "        async function convertToInteractive(key) {\n",
              "          const element = document.querySelector('#df-6570f626-9c19-4b5c-bfe0-965eb76cbbfd');\n",
              "          const dataTable =\n",
              "            await google.colab.kernel.invokeFunction('convertToInteractive',\n",
              "                                                     [key], {});\n",
              "          if (!dataTable) return;\n",
              "\n",
              "          const docLinkHtml = 'Like what you see? Visit the ' +\n",
              "            '<a target=\"_blank\" href=https://colab.research.google.com/notebooks/data_table.ipynb>data table notebook</a>'\n",
              "            + ' to learn more about interactive tables.';\n",
              "          element.innerHTML = '';\n",
              "          dataTable['output_type'] = 'display_data';\n",
              "          await google.colab.output.renderOutput(dataTable, element);\n",
              "          const docLink = document.createElement('div');\n",
              "          docLink.innerHTML = docLinkHtml;\n",
              "          element.appendChild(docLink);\n",
              "        }\n",
              "      </script>\n",
              "    </div>\n",
              "  </div>\n",
              "  "
            ]
          },
          "metadata": {},
          "execution_count": 3
        }
      ],
      "source": [
        "df_pizza"
      ]
    },
    {
      "cell_type": "code",
      "execution_count": null,
      "id": "d5f36b87",
      "metadata": {
        "id": "d5f36b87"
      },
      "outputs": [],
      "source": [
        "# Diâmetros (cm)\n",
        "diametros = [[7],[10], [15], [30], [45]]\n",
        "\n",
        "# Preços (R$)\n",
        "precos = [[8], [11], [16], [38.5], [52]]"
      ]
    },
    {
      "cell_type": "markdown",
      "source": [
        "## No gráfico percebemos que há uma relação positiva entre o diâmetro e o preço da pizza. À medida que a pizza aumenta o seu preço também tende a aumentar."
      ],
      "metadata": {
        "id": "Pn3-x0ITK1hB"
      },
      "id": "Pn3-x0ITK1hB"
    },
    {
      "cell_type": "code",
      "execution_count": null,
      "id": "06f72129",
      "metadata": {
        "id": "06f72129",
        "outputId": "3d45aeae-4320-4397-9341-1c455e7ea0e2",
        "colab": {
          "base_uri": "https://localhost:8080/",
          "height": 304
        }
      },
      "outputs": [
        {
          "output_type": "display_data",
          "data": {
            "text/plain": [
              "<Figure size 432x288 with 1 Axes>"
            ],
            "image/png": "[encoded data removed]"
          },
          "metadata": {
            "needs_background": "light"
          }
        }
      ],
      "source": [
        "# Visualização dos dados\n",
        "\n",
        "#fig = plt.figure(figsize = (10,9))\n",
        "plt.figure()\n",
        "plt.xlabel('Diâmetro(cm)',color = 'red', fontsize = 12)\n",
        "plt.ylabel('Preço(R$)', color = 'red',fontsize = 12)\n",
        "plt.title('Diâmetro x Preço', fontsize = 20, c='r')\n",
        "#plt.plot(diametros, precos, 'k.')\n",
        "plt.scatter(diametros, precos, marker = 'o', color = 'r')\n",
        "plt.plot(diametros, precos, color = 'b')\n",
        "plt.axis([0, 80, 0, 60])\n",
        "plt.grid(True)\n",
        "plt.show()"
      ]
    },
    {
      "cell_type": "markdown",
      "source": [
        "## Criando modelo para prever o preço da pizza.\n",
        "\n",
        "A classe sklearn.linear_model.LinearRegression é um estimador. Um estimador prevê um valor baseado em dados observados. Em scikit-learn, todos os estimadores implementam os métodos fit() e predict(). O método fit() é usado para aprender os parâmetros de um modelo e o método predict() é usado para prever o valor de uma variável dependente em relação a uma variável explanatória usando os parâmetros aprendidos."
      ],
      "metadata": {
        "id": "uPrTrYvwLydc"
      },
      "id": "uPrTrYvwLydc"
    },
    {
      "cell_type": "code",
      "execution_count": null,
      "id": "48f63727",
      "metadata": {
        "id": "48f63727"
      },
      "outputs": [],
      "source": [
        "import sklearn"
      ]
    },
    {
      "cell_type": "code",
      "source": [
        "# Importando módulo sklearn para trabalhar com Regressão Linear.\n",
        "from sklearn.linear_model import LinearRegression"
      ],
      "metadata": {
        "id": "cvycNHcIMvfc"
      },
      "id": "cvycNHcIMvfc",
      "execution_count": null,
      "outputs": []
    },
    {
      "cell_type": "code",
      "source": [
        "# Dados de treino\n",
        "\n",
        "# O X recebe os dados de diâmetro da Pizza.\n",
        "X = [[7], [10], [15], [30], [45]]\n",
        "\n",
        "# O Y recebe os dados de preço da Pizza.\n",
        "Y = [[8], [11], [16], [38.5], [52]]"
      ],
      "metadata": {
        "id": "iWetP6jFjoHt"
      },
      "id": "iWetP6jFjoHt",
      "execution_count": null,
      "outputs": []
    },
    {
      "cell_type": "code",
      "source": [
        "# Criando o modelo\n",
        "modelo = LinearRegression()"
      ],
      "metadata": {
        "id": "WGcfasmajoE9"
      },
      "id": "WGcfasmajoE9",
      "execution_count": null,
      "outputs": []
    },
    {
      "cell_type": "code",
      "source": [
        "# Realizando o treinamento do modelo\n",
        "modelo.fit(X,Y)"
      ],
      "metadata": {
        "id": "cePRhlZejoB1",
        "colab": {
          "base_uri": "https://localhost:8080/"
        },
        "outputId": "458dc862-2a36-46d0-b530-72800ff33405"
      },
      "id": "cePRhlZejoB1",
      "execution_count": null,
      "outputs": [
        {
          "output_type": "execute_result",
          "data": {
            "text/plain": [
              "LinearRegression()"
            ]
          },
          "metadata": {},
          "execution_count": 12
        }
      ]
    },
    {
      "cell_type": "code",
      "source": [
        "# Chamando modelo, usando função predict, e apresentando novos dados ao modelo.\n",
        "print(\"Uma pizza de 30cm de diâmetro custa em média: R$%.2f\" % modelo.predict([[55]]))"
      ],
      "metadata": {
        "id": "VbNFsfPOjn_F",
        "colab": {
          "base_uri": "https://localhost:8080/"
        },
        "outputId": "9638d95d-0523-444c-d28f-0edcfee02b7d"
      },
      "id": "VbNFsfPOjn_F",
      "execution_count": null,
      "outputs": [
        {
          "output_type": "stream",
          "name": "stdout",
          "text": [
            "Uma pizza de 30cm de diâmetro custa em média: R$65.56\n"
          ]
        }
      ]
    },
    {
      "cell_type": "markdown",
      "source": [
        "## O método .fit() do módulo Linear Regression aprende os paramẽtros da regressão linear simples:\n",
        "\n",
        "![image.png](data:image/png;base64,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)"
      ],
      "metadata": {
        "id": "NlSFWbitZQD4"
      },
      "id": "NlSFWbitZQD4"
    },
    {
      "cell_type": "markdown",
      "source": [
        "## Y - é a variável dependente(preço da pizza)\n",
        "## X - é a variável independente, característica(diâmetro da pizza) \n",
        "\n",
        "## Alfa é o limite do cruzamento ou coeficiente linear(Pois é uma função linear).\n",
        "\n",
        "## Beta é o coeficiente de cada variável ou coeficiente angular(é a medida de inclinação de uma reta face ao eixo horizontal)\n",
        "\n",
        "## Alfa e Beta são parâmetros do modelo que são aprendidos pelo algoritmo de aprendizagem."
      ],
      "metadata": {
        "id": "nDx4stMcaGiu"
      },
      "id": "nDx4stMcaGiu"
    },
    {
      "cell_type": "markdown",
      "source": [
        "# Costruindo um Scatter plot"
      ],
      "metadata": {
        "id": "0ofTFAQSCzGq"
      },
      "id": "0ofTFAQSCzGq"
    },
    {
      "cell_type": "code",
      "source": [
        "# Coeficiente gerado pelo modelo\n",
        "print('Coeficiente: \\n', modelo.coef)\n",
        "\n",
        "# MSE (mean square error, erro médio, faz a comparação da previsão com o que está nos dados históricos para verificar se os resultados do modelo estão precisos)\n"
      ],
      "metadata": {
        "id": "ZRNbjcO2jn8f"
      },
      "id": "ZRNbjcO2jn8f",
      "execution_count": null,
      "outputs": []
    },
    {
      "cell_type": "code",
      "source": [],
      "metadata": {
        "id": "mOS8QNsDjn5F"
      },
      "id": "mOS8QNsDjn5F",
      "execution_count": null,
      "outputs": []
    },
    {
      "cell_type": "code",
      "source": [],
      "metadata": {
        "id": "-fc8X02Pjn2G"
      },
      "id": "-fc8X02Pjn2G",
      "execution_count": null,
      "outputs": []
    },
    {
      "cell_type": "code",
      "source": [],
      "metadata": {
        "id": "SBXbhGHmjnzG"
      },
      "id": "SBXbhGHmjnzG",
      "execution_count": null,
      "outputs": []
    },
    {
      "cell_type": "code",
      "source": [],
      "metadata": {
        "id": "T7aovyh_jnvm"
      },
      "id": "T7aovyh_jnvm",
      "execution_count": null,
      "outputs": []
    },
    {
      "cell_type": "code",
      "source": [],
      "metadata": {
        "id": "OQy6ijrFCE3t"
      },
      "id": "OQy6ijrFCE3t",
      "execution_count": null,
      "outputs": []
    },
    {
      "cell_type": "code",
      "source": [],
      "metadata": {
        "id": "obeVagleCEyN"
      },
      "id": "obeVagleCEyN",
      "execution_count": null,
      "outputs": []
    },
    {
      "cell_type": "code",
      "source": [],
      "metadata": {
        "id": "B9aMpAW6CEvY"
      },
      "id": "B9aMpAW6CEvY",
      "execution_count": null,
      "outputs": []
    },
    {
      "cell_type": "code",
      "source": [],
      "metadata": {
        "id": "eknw97nNCEsg"
      },
      "id": "eknw97nNCEsg",
      "execution_count": null,
      "outputs": []
    },
    {
      "cell_type": "code",
      "source": [],
      "metadata": {
        "id": "eMb013UFCEpo"
      },
      "id": "eMb013UFCEpo",
      "execution_count": null,
      "outputs": []
    },
    {
      "cell_type": "code",
      "source": [],
      "metadata": {
        "id": "Q1GUWxldCEm0"
      },
      "id": "Q1GUWxldCEm0",
      "execution_count": null,
      "outputs": []
    },
    {
      "cell_type": "code",
      "source": [],
      "metadata": {
        "id": "AzMOBkBRCEj8"
      },
      "id": "AzMOBkBRCEj8",
      "execution_count": null,
      "outputs": []
    },
    {
      "cell_type": "code",
      "source": [],
      "metadata": {
        "id": "Nvo73_v7CEhC"
      },
      "id": "Nvo73_v7CEhC",
      "execution_count": null,
      "outputs": []
    },
    {
      "cell_type": "code",
      "source": [],
      "metadata": {
        "id": "gAIPwhkkCEeB"
      },
      "id": "gAIPwhkkCEeB",
      "execution_count": null,
      "outputs": []
    },
    {
      "cell_type": "code",
      "source": [],
      "metadata": {
        "id": "XYZ7SvNuCEbG"
      },
      "id": "XYZ7SvNuCEbG",
      "execution_count": null,
      "outputs": []
    },
    {
      "cell_type": "code",
      "source": [],
      "metadata": {
        "id": "LcPYn-DlCEYM"
      },
      "id": "LcPYn-DlCEYM",
      "execution_count": null,
      "outputs": []
    },
    {
      "cell_type": "code",
      "source": [],
      "metadata": {
        "id": "vL8QYgtQCEVF"
      },
      "id": "vL8QYgtQCEVF",
      "execution_count": null,
      "outputs": []
    },
    {
      "cell_type": "code",
      "source": [],
      "metadata": {
        "id": "2MWdBrV_CESM"
      },
      "id": "2MWdBrV_CESM",
      "execution_count": null,
      "outputs": []
    },
    {
      "cell_type": "code",
      "source": [],
      "metadata": {
        "id": "ZwJiO0RnCEPW"
      },
      "id": "ZwJiO0RnCEPW",
      "execution_count": null,
      "outputs": []
    },
    {
      "cell_type": "code",
      "source": [],
      "metadata": {
        "id": "tJ2K50R_CEMV"
      },
      "id": "tJ2K50R_CEMV",
      "execution_count": null,
      "outputs": []
    },
    {
      "cell_type": "code",
      "source": [],
      "metadata": {
        "id": "gXndC2ZkCEJk"
      },
      "id": "gXndC2ZkCEJk",
      "execution_count": null,
      "outputs": []
    },
    {
      "cell_type": "code",
      "source": [],
      "metadata": {
        "id": "fdmkDiltCEEZ"
      },
      "id": "fdmkDiltCEEZ",
      "execution_count": null,
      "outputs": []
    },
    {
      "cell_type": "code",
      "source": [],
      "metadata": {
        "id": "9u7tIc7TCD-u"
      },
      "id": "9u7tIc7TCD-u",
      "execution_count": null,
      "outputs": []
    },
    {
      "cell_type": "code",
      "source": [],
      "metadata": {
        "id": "5m3X-ZcUCD7t"
      },
      "id": "5m3X-ZcUCD7t",
      "execution_count": null,
      "outputs": []
    },
    {
      "cell_type": "code",
      "source": [],
      "metadata": {
        "id": "2em0M48rCD5Y"
      },
      "id": "2em0M48rCD5Y",
      "execution_count": null,
      "outputs": []
    },
    {
      "cell_type": "code",
      "source": [],
      "metadata": {
        "id": "hkB_WYGTCD11"
      },
      "id": "hkB_WYGTCD11",
      "execution_count": null,
      "outputs": []
    }
  ],
  "metadata": {
    "kernelspec": {
      "display_name": "Python 3 (ipykernel)",
      "language": "python",
      "name": "python3"
    },
    "language_info": {
      "codemirror_mode": {
        "name": "ipython",
        "version": 3
      },
      "file_extension": ".py",
      "mimetype": "text/x-python",
      "name": "python",
      "nbconvert_exporter": "python",
      "pygments_lexer": "ipython3",
      "version": "3.8.10"
    },
    "colab": {
      "provenance": [],
      "collapsed_sections": [],
      "include_colab_link": true
    }
  },
  "nbformat": 4,
  "nbformat_minor": 5
}